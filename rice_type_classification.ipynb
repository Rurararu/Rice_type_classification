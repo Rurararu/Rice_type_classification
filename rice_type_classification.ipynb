{
 "cells": [
  {
   "metadata": {
    "ExecuteTime": {
     "end_time": "2025-09-18T21:25:03.533213Z",
     "start_time": "2025-09-18T21:25:03.525330Z"
    }
   },
   "cell_type": "code",
   "source": [
    "import torch\n",
    "import torch.nn as nn\n",
    "from torch.optim import Adam\n",
    "from torch.utils.data import DataLoader, Dataset\n",
    "from torchsummary import summary\n",
    "from sklearn.model_selection import train_test_split\n",
    "from sklearn.metrics import accuracy_score\n",
    "import matplotlib.pyplot as plt\n",
    "import numpy as np\n",
    "import pandas as pd\n",
    "\n",
    "device = 'cuda' if torch.cuda.is_available() else 'cpu'\n",
    "print(device)"
   ],
   "id": "e908c2d0d3a27a8c",
   "outputs": [
    {
     "name": "stdout",
     "output_type": "stream",
     "text": [
      "cpu\n"
     ]
    }
   ],
   "execution_count": 7
  },
  {
   "metadata": {
    "ExecuteTime": {
     "end_time": "2025-09-18T21:26:49.622148Z",
     "start_time": "2025-09-18T21:26:49.575160Z"
    }
   },
   "cell_type": "code",
   "source": [
    "df = pd.read_csv('data/riceClassification.csv')\n",
    "df.head()"
   ],
   "id": "252b5a92f981abb4",
   "outputs": [
    {
     "data": {
      "text/plain": [
       "   id  Area  MajorAxisLength  MinorAxisLength  Eccentricity  ConvexArea  \\\n",
       "0   1  4537        92.229316        64.012769      0.719916        4677   \n",
       "1   2  2872        74.691881        51.400454      0.725553        3015   \n",
       "2   3  3048        76.293164        52.043491      0.731211        3132   \n",
       "3   4  3073        77.033628        51.928487      0.738639        3157   \n",
       "4   5  3693        85.124785        56.374021      0.749282        3802   \n",
       "\n",
       "   EquivDiameter    Extent  Perimeter  Roundness  AspectRation  Class  \n",
       "0      76.004525  0.657536    273.085   0.764510      1.440796      1  \n",
       "1      60.471018  0.713009    208.317   0.831658      1.453137      1  \n",
       "2      62.296341  0.759153    210.012   0.868434      1.465950      1  \n",
       "3      62.551300  0.783529    210.657   0.870203      1.483456      1  \n",
       "4      68.571668  0.769375    230.332   0.874743      1.510000      1  "
      ],
      "text/html": [
       "<div>\n",
       "<style scoped>\n",
       "    .dataframe tbody tr th:only-of-type {\n",
       "        vertical-align: middle;\n",
       "    }\n",
       "\n",
       "    .dataframe tbody tr th {\n",
       "        vertical-align: top;\n",
       "    }\n",
       "\n",
       "    .dataframe thead th {\n",
       "        text-align: right;\n",
       "    }\n",
       "</style>\n",
       "<table border=\"1\" class=\"dataframe\">\n",
       "  <thead>\n",
       "    <tr style=\"text-align: right;\">\n",
       "      <th></th>\n",
       "      <th>id</th>\n",
       "      <th>Area</th>\n",
       "      <th>MajorAxisLength</th>\n",
       "      <th>MinorAxisLength</th>\n",
       "      <th>Eccentricity</th>\n",
       "      <th>ConvexArea</th>\n",
       "      <th>EquivDiameter</th>\n",
       "      <th>Extent</th>\n",
       "      <th>Perimeter</th>\n",
       "      <th>Roundness</th>\n",
       "      <th>AspectRation</th>\n",
       "      <th>Class</th>\n",
       "    </tr>\n",
       "  </thead>\n",
       "  <tbody>\n",
       "    <tr>\n",
       "      <th>0</th>\n",
       "      <td>1</td>\n",
       "      <td>4537</td>\n",
       "      <td>92.229316</td>\n",
       "      <td>64.012769</td>\n",
       "      <td>0.719916</td>\n",
       "      <td>4677</td>\n",
       "      <td>76.004525</td>\n",
       "      <td>0.657536</td>\n",
       "      <td>273.085</td>\n",
       "      <td>0.764510</td>\n",
       "      <td>1.440796</td>\n",
       "      <td>1</td>\n",
       "    </tr>\n",
       "    <tr>\n",
       "      <th>1</th>\n",
       "      <td>2</td>\n",
       "      <td>2872</td>\n",
       "      <td>74.691881</td>\n",
       "      <td>51.400454</td>\n",
       "      <td>0.725553</td>\n",
       "      <td>3015</td>\n",
       "      <td>60.471018</td>\n",
       "      <td>0.713009</td>\n",
       "      <td>208.317</td>\n",
       "      <td>0.831658</td>\n",
       "      <td>1.453137</td>\n",
       "      <td>1</td>\n",
       "    </tr>\n",
       "    <tr>\n",
       "      <th>2</th>\n",
       "      <td>3</td>\n",
       "      <td>3048</td>\n",
       "      <td>76.293164</td>\n",
       "      <td>52.043491</td>\n",
       "      <td>0.731211</td>\n",
       "      <td>3132</td>\n",
       "      <td>62.296341</td>\n",
       "      <td>0.759153</td>\n",
       "      <td>210.012</td>\n",
       "      <td>0.868434</td>\n",
       "      <td>1.465950</td>\n",
       "      <td>1</td>\n",
       "    </tr>\n",
       "    <tr>\n",
       "      <th>3</th>\n",
       "      <td>4</td>\n",
       "      <td>3073</td>\n",
       "      <td>77.033628</td>\n",
       "      <td>51.928487</td>\n",
       "      <td>0.738639</td>\n",
       "      <td>3157</td>\n",
       "      <td>62.551300</td>\n",
       "      <td>0.783529</td>\n",
       "      <td>210.657</td>\n",
       "      <td>0.870203</td>\n",
       "      <td>1.483456</td>\n",
       "      <td>1</td>\n",
       "    </tr>\n",
       "    <tr>\n",
       "      <th>4</th>\n",
       "      <td>5</td>\n",
       "      <td>3693</td>\n",
       "      <td>85.124785</td>\n",
       "      <td>56.374021</td>\n",
       "      <td>0.749282</td>\n",
       "      <td>3802</td>\n",
       "      <td>68.571668</td>\n",
       "      <td>0.769375</td>\n",
       "      <td>230.332</td>\n",
       "      <td>0.874743</td>\n",
       "      <td>1.510000</td>\n",
       "      <td>1</td>\n",
       "    </tr>\n",
       "  </tbody>\n",
       "</table>\n",
       "</div>"
      ]
     },
     "execution_count": 9,
     "metadata": {},
     "output_type": "execute_result"
    }
   ],
   "execution_count": 9
  },
  {
   "metadata": {},
   "cell_type": "markdown",
   "source": "### Drop id column",
   "id": "b7367f75877e875d"
  },
  {
   "metadata": {
    "ExecuteTime": {
     "end_time": "2025-09-18T21:29:22.706172Z",
     "start_time": "2025-09-18T21:29:22.672393Z"
    }
   },
   "cell_type": "code",
   "source": [
    "df.dropna(inplace=True)\n",
    "df.drop(['id'], axis=1, inplace=True)\n",
    "\n",
    "print(df.shape)"
   ],
   "id": "2b95c5f341633536",
   "outputs": [
    {
     "name": "stdout",
     "output_type": "stream",
     "text": [
      "(18185, 11)\n"
     ]
    }
   ],
   "execution_count": 10
  },
  {
   "metadata": {
    "ExecuteTime": {
     "end_time": "2025-09-18T21:30:03.965122Z",
     "start_time": "2025-09-18T21:30:03.956687Z"
    }
   },
   "cell_type": "code",
   "source": "print(df[\"Class\"].unique())",
   "id": "6fd1898a56efd72f",
   "outputs": [
    {
     "name": "stdout",
     "output_type": "stream",
     "text": [
      "[1 0]\n"
     ]
    }
   ],
   "execution_count": 11
  },
  {
   "metadata": {},
   "cell_type": "markdown",
   "source": "### Normalize columns",
   "id": "49bae98959c11397"
  },
  {
   "metadata": {
    "ExecuteTime": {
     "end_time": "2025-09-18T21:34:27.275887Z",
     "start_time": "2025-09-18T21:34:27.239468Z"
    }
   },
   "cell_type": "code",
   "source": [
    "original_df = df.copy()\n",
    "\n",
    "for column in df.columns:\n",
    "    df[column] = df[column]/df[column].abs().max()\n",
    "\n",
    "df.head()"
   ],
   "id": "fca72e205e3965f3",
   "outputs": [
    {
     "data": {
      "text/plain": [
       "       Area  MajorAxisLength  MinorAxisLength  Eccentricity  ConvexArea  \\\n",
       "0  0.444368         0.503404         0.775435      0.744658    0.424873   \n",
       "1  0.281293         0.407681         0.622653      0.750489    0.273892   \n",
       "2  0.298531         0.416421         0.630442      0.756341    0.284520   \n",
       "3  0.300979         0.420463         0.629049      0.764024    0.286791   \n",
       "4  0.361704         0.464626         0.682901      0.775033    0.345385   \n",
       "\n",
       "   EquivDiameter    Extent  Perimeter  Roundness  AspectRation  Class  \n",
       "0       0.666610  0.741661   0.537029   0.844997      0.368316    1.0  \n",
       "1       0.530370  0.804230   0.409661   0.919215      0.371471    1.0  \n",
       "2       0.546380  0.856278   0.412994   0.959862      0.374747    1.0  \n",
       "3       0.548616  0.883772   0.414262   0.961818      0.379222    1.0  \n",
       "4       0.601418  0.867808   0.452954   0.966836      0.386007    1.0  "
      ],
      "text/html": [
       "<div>\n",
       "<style scoped>\n",
       "    .dataframe tbody tr th:only-of-type {\n",
       "        vertical-align: middle;\n",
       "    }\n",
       "\n",
       "    .dataframe tbody tr th {\n",
       "        vertical-align: top;\n",
       "    }\n",
       "\n",
       "    .dataframe thead th {\n",
       "        text-align: right;\n",
       "    }\n",
       "</style>\n",
       "<table border=\"1\" class=\"dataframe\">\n",
       "  <thead>\n",
       "    <tr style=\"text-align: right;\">\n",
       "      <th></th>\n",
       "      <th>Area</th>\n",
       "      <th>MajorAxisLength</th>\n",
       "      <th>MinorAxisLength</th>\n",
       "      <th>Eccentricity</th>\n",
       "      <th>ConvexArea</th>\n",
       "      <th>EquivDiameter</th>\n",
       "      <th>Extent</th>\n",
       "      <th>Perimeter</th>\n",
       "      <th>Roundness</th>\n",
       "      <th>AspectRation</th>\n",
       "      <th>Class</th>\n",
       "    </tr>\n",
       "  </thead>\n",
       "  <tbody>\n",
       "    <tr>\n",
       "      <th>0</th>\n",
       "      <td>0.444368</td>\n",
       "      <td>0.503404</td>\n",
       "      <td>0.775435</td>\n",
       "      <td>0.744658</td>\n",
       "      <td>0.424873</td>\n",
       "      <td>0.666610</td>\n",
       "      <td>0.741661</td>\n",
       "      <td>0.537029</td>\n",
       "      <td>0.844997</td>\n",
       "      <td>0.368316</td>\n",
       "      <td>1.0</td>\n",
       "    </tr>\n",
       "    <tr>\n",
       "      <th>1</th>\n",
       "      <td>0.281293</td>\n",
       "      <td>0.407681</td>\n",
       "      <td>0.622653</td>\n",
       "      <td>0.750489</td>\n",
       "      <td>0.273892</td>\n",
       "      <td>0.530370</td>\n",
       "      <td>0.804230</td>\n",
       "      <td>0.409661</td>\n",
       "      <td>0.919215</td>\n",
       "      <td>0.371471</td>\n",
       "      <td>1.0</td>\n",
       "    </tr>\n",
       "    <tr>\n",
       "      <th>2</th>\n",
       "      <td>0.298531</td>\n",
       "      <td>0.416421</td>\n",
       "      <td>0.630442</td>\n",
       "      <td>0.756341</td>\n",
       "      <td>0.284520</td>\n",
       "      <td>0.546380</td>\n",
       "      <td>0.856278</td>\n",
       "      <td>0.412994</td>\n",
       "      <td>0.959862</td>\n",
       "      <td>0.374747</td>\n",
       "      <td>1.0</td>\n",
       "    </tr>\n",
       "    <tr>\n",
       "      <th>3</th>\n",
       "      <td>0.300979</td>\n",
       "      <td>0.420463</td>\n",
       "      <td>0.629049</td>\n",
       "      <td>0.764024</td>\n",
       "      <td>0.286791</td>\n",
       "      <td>0.548616</td>\n",
       "      <td>0.883772</td>\n",
       "      <td>0.414262</td>\n",
       "      <td>0.961818</td>\n",
       "      <td>0.379222</td>\n",
       "      <td>1.0</td>\n",
       "    </tr>\n",
       "    <tr>\n",
       "      <th>4</th>\n",
       "      <td>0.361704</td>\n",
       "      <td>0.464626</td>\n",
       "      <td>0.682901</td>\n",
       "      <td>0.775033</td>\n",
       "      <td>0.345385</td>\n",
       "      <td>0.601418</td>\n",
       "      <td>0.867808</td>\n",
       "      <td>0.452954</td>\n",
       "      <td>0.966836</td>\n",
       "      <td>0.386007</td>\n",
       "      <td>1.0</td>\n",
       "    </tr>\n",
       "  </tbody>\n",
       "</table>\n",
       "</div>"
      ]
     },
     "execution_count": 12,
     "metadata": {},
     "output_type": "execute_result"
    }
   ],
   "execution_count": 12
  },
  {
   "metadata": {},
   "cell_type": "markdown",
   "source": "### Split the dataset",
   "id": "d98f1318a7e48adf"
  },
  {
   "metadata": {
    "ExecuteTime": {
     "end_time": "2025-09-18T21:35:41.271814Z",
     "start_time": "2025-09-18T21:35:41.258422Z"
    }
   },
   "cell_type": "code",
   "source": [
    "X = np.array(df.iloc[:, :-1])\n",
    "y = np.array(df.iloc[:, -1])"
   ],
   "id": "63a9e3f2815ec8d7",
   "outputs": [],
   "execution_count": 13
  },
  {
   "metadata": {
    "ExecuteTime": {
     "end_time": "2025-09-18T21:36:38.780871Z",
     "start_time": "2025-09-18T21:36:38.760261Z"
    }
   },
   "cell_type": "code",
   "source": "X_train, X_test, y_train, y_test = train_test_split(X, y, test_size=0.3)",
   "id": "3ef0e53bf3f37ffb",
   "outputs": [],
   "execution_count": 14
  },
  {
   "metadata": {
    "ExecuteTime": {
     "end_time": "2025-09-18T21:37:19.836095Z",
     "start_time": "2025-09-18T21:37:19.828291Z"
    }
   },
   "cell_type": "code",
   "source": "X_test, X_val, y_test, y_val = train_test_split(X_test, y_test, test_size=0.5)",
   "id": "487ebf74b69b3537",
   "outputs": [],
   "execution_count": 15
  },
  {
   "metadata": {
    "ExecuteTime": {
     "end_time": "2025-09-18T21:37:47.277181Z",
     "start_time": "2025-09-18T21:37:47.273109Z"
    }
   },
   "cell_type": "code",
   "source": [
    "print(X_train.shape)\n",
    "print(X_test.shape)\n",
    "print(X_val.shape)"
   ],
   "id": "a78130a48d7ea567",
   "outputs": [
    {
     "name": "stdout",
     "output_type": "stream",
     "text": [
      "(12729, 10)\n",
      "(2728, 10)\n",
      "(2728, 10)\n"
     ]
    }
   ],
   "execution_count": 16
  },
  {
   "metadata": {
    "ExecuteTime": {
     "end_time": "2025-09-18T21:42:48.243519Z",
     "start_time": "2025-09-18T21:42:48.237058Z"
    }
   },
   "cell_type": "code",
   "source": [
    "class dataset(Dataset):\n",
    "    def __init__(self, X, y):\n",
    "        self.X = torch.tensor(X, dtype=torch.float32).to(device)\n",
    "        self.y = torch.tensor(y, dtype=torch.float32).to(device)\n",
    "\n",
    "    def __len__(self):\n",
    "        return len(self.X)\n",
    "\n",
    "    def __getitem__(self, index):\n",
    "        return self.X[index], self.y[index]\n"
   ],
   "id": "10df694ee71f57b1",
   "outputs": [],
   "execution_count": 17
  },
  {
   "metadata": {
    "ExecuteTime": {
     "end_time": "2025-09-18T21:43:39.515827Z",
     "start_time": "2025-09-18T21:43:39.474636Z"
    }
   },
   "cell_type": "code",
   "source": [
    "train_data = dataset(X_train, y_train)\n",
    "test_data = dataset(X_test, y_test)\n",
    "validation_data = dataset(X_val, y_val)"
   ],
   "id": "7a8cfab4a05e0a95",
   "outputs": [],
   "execution_count": 18
  },
  {
   "metadata": {
    "ExecuteTime": {
     "end_time": "2025-09-18T22:20:07.707218Z",
     "start_time": "2025-09-18T22:20:07.703747Z"
    }
   },
   "cell_type": "code",
   "source": [
    "train_dataloader = DataLoader(train_data, batch_size=32, shuffle=True)\n",
    "test_dataloader = DataLoader(test_data, batch_size=32, shuffle=True)\n",
    "validation_dataloader = DataLoader(validation_data, batch_size=32, shuffle=True)"
   ],
   "id": "e01d69a1d131f157",
   "outputs": [],
   "execution_count": 45
  },
  {
   "metadata": {
    "ExecuteTime": {
     "end_time": "2025-09-18T22:20:11.242958Z",
     "start_time": "2025-09-18T22:20:11.236043Z"
    }
   },
   "cell_type": "code",
   "source": [
    "HIDDEN_NEURONS = 10\n",
    "class MyModel(nn.Module):\n",
    "    def __init__(self):\n",
    "        super(MyModel, self).__init__()\n",
    "\n",
    "        self.input_layer = nn.Linear(X.shape[1], HIDDEN_NEURONS)\n",
    "        self.linear = nn.Linear(HIDDEN_NEURONS, 1)\n",
    "        self.sigmoid = nn.Sigmoid()\n",
    "\n",
    "    def forward(self, x):\n",
    "        x = self.input_layer(x)\n",
    "        x = self.linear(x)\n",
    "        x = self.sigmoid(x)\n",
    "        return x\n",
    "\n",
    "model = MyModel().to(device)"
   ],
   "id": "888d7606a7c850fc",
   "outputs": [],
   "execution_count": 46
  },
  {
   "metadata": {
    "ExecuteTime": {
     "end_time": "2025-09-18T22:20:13.585786Z",
     "start_time": "2025-09-18T22:20:13.579261Z"
    }
   },
   "cell_type": "code",
   "source": "summary(model, (X.shape[1],))",
   "id": "a661d37784c23238",
   "outputs": [
    {
     "name": "stdout",
     "output_type": "stream",
     "text": [
      "----------------------------------------------------------------\n",
      "        Layer (type)               Output Shape         Param #\n",
      "================================================================\n",
      "            Linear-1                   [-1, 10]             110\n",
      "            Linear-2                    [-1, 1]              11\n",
      "           Sigmoid-3                    [-1, 1]               0\n",
      "================================================================\n",
      "Total params: 121\n",
      "Trainable params: 121\n",
      "Non-trainable params: 0\n",
      "----------------------------------------------------------------\n",
      "Input size (MB): 0.00\n",
      "Forward/backward pass size (MB): 0.00\n",
      "Params size (MB): 0.00\n",
      "Estimated Total Size (MB): 0.00\n",
      "----------------------------------------------------------------\n"
     ]
    }
   ],
   "execution_count": 47
  },
  {
   "metadata": {
    "ExecuteTime": {
     "end_time": "2025-09-18T22:20:17.334683Z",
     "start_time": "2025-09-18T22:20:17.331564Z"
    }
   },
   "cell_type": "code",
   "source": [
    "criterion = nn.BCELoss()\n",
    "optimizer = Adam(model.parameters(), lr=1e-3)"
   ],
   "id": "8d525d26aa32b7b",
   "outputs": [],
   "execution_count": 48
  },
  {
   "metadata": {
    "ExecuteTime": {
     "end_time": "2025-09-18T22:20:26.255829Z",
     "start_time": "2025-09-18T22:20:21.753560Z"
    }
   },
   "cell_type": "code",
   "source": [
    "total_loss_train_plot = []\n",
    "total_loss_val_plot = []\n",
    "total_acc_train_plot = []\n",
    "total_acc_val_plot = []\n",
    "\n",
    "for epoch in range(10):\n",
    "    total_acc_train = 0\n",
    "    total_acc_val = 0\n",
    "    total_loss_train = 0\n",
    "    total_loss_val = 0\n",
    "\n",
    "    for data in train_dataloader:\n",
    "        inputs, labels = data\n",
    "\n",
    "        predictions = model(inputs).squeeze(1)\n",
    "        batch_loss = criterion(predictions, labels)\n",
    "\n",
    "        total_loss_train += batch_loss.item()\n",
    "        acc = ((predictions).round() == labels).sum().item()\n",
    "\n",
    "        total_acc_train += acc\n",
    "\n",
    "        batch_loss.backward()\n",
    "        optimizer.step()\n",
    "        optimizer.zero_grad()\n",
    "\n",
    "    with torch.no_grad():\n",
    "        for data in validation_dataloader:\n",
    "            inputs, labels = data\n",
    "\n",
    "            predictions = model(inputs).squeeze(1)\n",
    "            batch_loss = criterion(predictions, labels)\n",
    "\n",
    "            total_loss_val += batch_loss.item()\n",
    "            acc = ((predictions).round() == labels).sum().item()\n",
    "\n",
    "            total_acc_val += acc\n",
    "\n",
    "    total_loss_train_plot.append(round(total_loss_train/1000, 4))\n",
    "    total_loss_val_plot.append(round(total_loss_val/1000, 4))\n",
    "\n",
    "    total_acc_train_plot.append(round(total_acc_train/train_data.__len__()*100, 4))\n",
    "    total_acc_val_plot.append(round(total_acc_val/validation_data.__len__()*100, 4))\n",
    "    print(f'Epoch: {epoch+1} Train Loss: {round(total_loss_train/1000, 4)} Train Accuracy {round(total_acc_train/train_data.__len__()*100, 4)}% Validation Accuracy {round(total_acc_val/validation_data.__len__()*100, 4)}')\n",
    "\n",
    "    print(\"=\"*25)\n",
    "\n"
   ],
   "id": "cf88dba528b9ac4f",
   "outputs": [
    {
     "name": "stdout",
     "output_type": "stream",
     "text": [
      "Epoch: 1 Train Loss: 0.2367 Train Accuracy 82.7795% Validation Accuracy 95.2346\n",
      "=========================\n",
      "Epoch: 2 Train Loss: 0.1315 Train Accuracy 97.5568% Validation Accuracy 97.544\n",
      "=========================\n",
      "Epoch: 3 Train Loss: 0.0643 Train Accuracy 98.2324% Validation Accuracy 98.0572\n",
      "=========================\n",
      "Epoch: 4 Train Loss: 0.04 Train Accuracy 98.5388% Validation Accuracy 98.3871\n",
      "=========================\n",
      "Epoch: 5 Train Loss: 0.03 Train Accuracy 98.5231% Validation Accuracy 98.3504\n",
      "=========================\n",
      "Epoch: 6 Train Loss: 0.025 Train Accuracy 98.6173% Validation Accuracy 98.0938\n",
      "=========================\n",
      "Epoch: 7 Train Loss: 0.022 Train Accuracy 98.6095% Validation Accuracy 98.2771\n",
      "=========================\n",
      "Epoch: 8 Train Loss: 0.0202 Train Accuracy 98.688% Validation Accuracy 98.4604\n",
      "=========================\n",
      "Epoch: 9 Train Loss: 0.0191 Train Accuracy 98.6095% Validation Accuracy 98.3871\n",
      "=========================\n",
      "Epoch: 10 Train Loss: 0.0182 Train Accuracy 98.6645% Validation Accuracy 98.717\n",
      "=========================\n"
     ]
    }
   ],
   "execution_count": 49
  },
  {
   "metadata": {
    "ExecuteTime": {
     "end_time": "2025-09-18T22:24:05.736679Z",
     "start_time": "2025-09-18T22:24:05.686552Z"
    }
   },
   "cell_type": "code",
   "source": [
    "with torch.no_grad():\n",
    "    total_acc_test = 0\n",
    "    total_loss_test = 0\n",
    "\n",
    "    for data in test_dataloader:\n",
    "        inputs, labels = data\n",
    "\n",
    "        predictions = model(inputs).squeeze(1)\n",
    "\n",
    "        batch_loss_test = criterion(predictions, labels)\n",
    "        total_loss_test += batch_loss_test\n",
    "\n",
    "        acc = ((predictions).round() == labels).sum().item()\n",
    "\n",
    "        total_acc_test += acc\n",
    "\n",
    "print(\"Accuracy: {:.3f}%\".format(total_acc_test/test_data.__len__()*100))"
   ],
   "id": "9ea59a6903c1e157",
   "outputs": [
    {
     "name": "stdout",
     "output_type": "stream",
     "text": [
      "Accuracy: 98.717%\n"
     ]
    }
   ],
   "execution_count": 53
  },
  {
   "metadata": {
    "ExecuteTime": {
     "end_time": "2025-09-18T22:30:36.352897Z",
     "start_time": "2025-09-18T22:30:35.914949Z"
    }
   },
   "cell_type": "code",
   "source": [
    "fig, axs = plt.subplots(nrows=1, ncols=2, figsize=(15, 5))\n",
    "\n",
    "axs[0].plot(total_loss_train_plot, label='Training Loss')\n",
    "axs[0].plot(total_loss_val_plot, label='Validation Loss')\n",
    "axs[0].set_title(\"Training and Validation loss over epochs\")\n",
    "axs[0].set_xlabel('Epochs')\n",
    "axs[0].set_ylabel('Loss')\n",
    "axs[0].set_ylim([0,2])\n",
    "axs[0].legend()\n",
    "\n",
    "\n",
    "axs[1].plot(total_acc_train_plot, label='Training Accuracy')\n",
    "axs[1].plot(total_acc_val_plot, label='Validation Accuracy')\n",
    "axs[1].set_title(\"Training and Validation Accuracy over epochs\")\n",
    "axs[1].set_xlabel('Epochs')\n",
    "axs[1].set_ylabel('Accuracy')\n",
    "axs[1].set_ylim([0,100])\n",
    "axs[1].legend()\n",
    "\n",
    "plt.show()"
   ],
   "id": "ce6125b30035abf4",
   "outputs": [
    {
     "data": {
      "text/plain": [
       "<Figure size 1500x500 with 2 Axes>"
      ],
      "image/png": "[encoded data removed]"
     },
     "metadata": {},
     "output_type": "display_data"
    }
   ],
   "execution_count": 56
  },
  {
   "metadata": {
    "ExecuteTime": {
     "end_time": "2025-09-18T22:42:08.702286Z",
     "start_time": "2025-09-18T22:42:08.688104Z"
    }
   },
   "cell_type": "code",
   "source": [
    "Area = 2352/original_df['Area'].abs().max()\n",
    "MajorAxisLength = 81/original_df['MajorAxisLength'].abs().max()\n",
    "MinorAxisLength = 42/original_df['MinorAxisLength'].abs().max()\n",
    "Eccentricity = 32/original_df['Eccentricity'].abs().max()\n",
    "ConvexArea = 12/original_df['ConvexArea'].abs().max()\n",
    "EquivDiameter = 33/original_df['EquivDiameter'].abs().max()\n",
    "Extent = 98/original_df['Extent'].abs().max()\n",
    "Perimeter = 927/original_df['Perimeter'].abs().max()\n",
    "Roundness = 677/original_df['Roundness'].abs().max()\n",
    "AspectRation = 24/original_df['AspectRation'].abs().max()\n",
    "\n",
    "my_prediction = model(torch.tensor([Area, MajorAxisLength, MinorAxisLength, Eccentricity,\n",
    "       ConvexArea, EquivDiameter, Extent, Perimeter, Roundness,\n",
    "       AspectRation], dtype=torch.float32).to(device))"
   ],
   "id": "be1a96c9d7f35af3",
   "outputs": [],
   "execution_count": 63
  },
  {
   "metadata": {
    "ExecuteTime": {
     "end_time": "2025-09-18T22:42:25.491572Z",
     "start_time": "2025-09-18T22:42:25.487370Z"
    }
   },
   "cell_type": "code",
   "source": "print(my_prediction.item())",
   "id": "3cc93858eb762087",
   "outputs": [
    {
     "name": "stdout",
     "output_type": "stream",
     "text": [
      "0.0\n"
     ]
    }
   ],
   "execution_count": 65
  }
 ],
 "metadata": {
  "kernelspec": {
   "display_name": "Python 3",
   "language": "python",
   "name": "python3"
  },
  "language_info": {
   "codemirror_mode": {
    "name": "ipython",
    "version": 2
   },
   "file_extension": ".py",
   "mimetype": "text/x-python",
   "name": "python",
   "nbconvert_exporter": "python",
   "pygments_lexer": "ipython2",
   "version": "2.7.6"
  }
 },
 "nbformat": 4,
 "nbformat_minor": 5
}
